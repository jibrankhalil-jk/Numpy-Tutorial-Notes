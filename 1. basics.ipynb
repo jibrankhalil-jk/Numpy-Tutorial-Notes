{
 "cells": [
  {
   "cell_type": "markdown",
   "metadata": {},
   "source": [
    "<center><h1>Numpy Full Notes</h1></center>\n",
    "<center>github : jibrankhalil-jk</center>\n",
    "\n"
   ]
  },
  {
   "cell_type": "markdown",
   "metadata": {},
   "source": [
    "importing numpy"
   ]
  },
  {
   "cell_type": "code",
   "execution_count": 1,
   "metadata": {},
   "outputs": [],
   "source": [
    "import numpy as np"
   ]
  },
  {
   "cell_type": "markdown",
   "metadata": {},
   "source": [
    "<h3 style=\"color:yellow;\">.array()</h3>"
   ]
  },
  {
   "cell_type": "markdown",
   "metadata": {},
   "source": [
    "`numpy.array(object, dtype=None, *, copy=True, order='K', subok=False, ndmin=0, like=None)`\n"
   ]
  },
  {
   "cell_type": "markdown",
   "metadata": {},
   "source": [
    "object can be any iterable  \n",
    "\n",
    "Such as\n",
    "- ```list```\n",
    "- ```tuple```\n",
    "- ```set```\n",
    "- ```range``` (iterator)\n",
    "\n",
    "All iterables can be used to create a numpy array, such as ```dict```\n",
    "\n",
    "`dtype` is used to set the data type of the array\n",
    "\n",
    "`copy` If True then the array data is copied. If None, a copy will only be made if __array__ returns a copy, if obj is a nested sequence, or if a copy is needed to satisfy any of the other requirements (dtype, order, etc.). Note that any copy of the data is shallow, i.e., for arrays with object dtype, the new array will point to the same objects. See Examples for ndarray.copy. For False it raises a ValueError if a copy cannot be avoided. Default: True.\n",
    "\n",
    "`order` (default : K ) Specify the memory layout of the array.\n",
    "    "
   ]
  },
  {
   "cell_type": "markdown",
   "metadata": {},
   "source": [
    "htmlta"
   ]
  },
  {
   "cell_type": "code",
   "execution_count": null,
   "metadata": {},
   "outputs": [],
   "source": [
    "arr = np.array([1,2,3], dtype='f4')\n",
    "arr.dtype "
   ]
  }
 ],
 "metadata": {
  "kernelspec": {
   "display_name": "pfai",
   "language": "python",
   "name": "python3"
  },
  "language_info": {
   "codemirror_mode": {
    "name": "ipython",
    "version": 3
   },
   "file_extension": ".py",
   "mimetype": "text/x-python",
   "name": "python",
   "nbconvert_exporter": "python",
   "pygments_lexer": "ipython3",
   "version": "3.12.5"
  }
 },
 "nbformat": 4,
 "nbformat_minor": 2
}
