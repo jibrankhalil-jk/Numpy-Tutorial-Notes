{
 "cells": [
  {
   "cell_type": "markdown",
   "metadata": {},
   "source": [
    "<center><h1>Numpy Full Notes</h1></center>\n",
    "<center>github : jibrankhalil-jk</center>"
   ]
  },
  {
   "cell_type": "markdown",
   "metadata": {},
   "source": [
    "What can we do wih numpy ?\n",
    "  NumPy is a Python library used for working with arrays. It also has functions for working in domain of linear algebra, fourier transform, and matrices.\n",
    "  <br>\n",
    "  NumPy was created in `2005` by Travis Oliphant. It is an open source project and you can use it freely."
   ]
  },
  {
   "cell_type": "markdown",
   "metadata": {},
   "source": [
    "Install numpy using the bellow code\n",
    "\n",
    "``!pip install numpy``"
   ]
  },
  {
   "cell_type": "code",
   "execution_count": null,
   "metadata": {},
   "outputs": [],
   "source": [
    "!pip install numpy"
   ]
  },
  {
   "cell_type": "markdown",
   "metadata": {},
   "source": [
    "Importing the numpy library"
   ]
  },
  {
   "cell_type": "code",
   "execution_count": 2,
   "metadata": {},
   "outputs": [],
   "source": [
    "import numpy as np"
   ]
  },
  {
   "cell_type": "markdown",
   "metadata": {},
   "source": [
    "### Numpy Data Types\n",
    "\n",
    "\n",
    "- ```int```\n",
    "- ```float```\n",
    "- ```bool```\n",
    "- ```string```\n",
    "- ```unicode```\n",
    "- ```object```\n",
    "- ```complex```\n",
    "\n",
    "\n",
    "Numpy data types can be represented using  `__Type__`  or `__Type Code__`"
   ]
  },
  {
   "cell_type": "markdown",
   "metadata": {},
   "source": [
    "DataTypes table \n",
    "<table>\n",
    "<thead>\n",
    "    <tr>\n",
    "        <td>#</td>\n",
    "        <td>_Type_</td>\n",
    "        <td>_Type Code_</td>\n",
    "    </tr>\n",
    "</thead>\n",
    "<tbody>\n",
    "    <tr>\n",
    "        <td>1</td>\n",
    "        <td> int8</td>\n",
    "        <td>i1</td></tr>    \n",
    "    <tr>\n",
    "        <td>2</td>\n",
    "        <td> uint8</td>\n",
    "        <td>u1</td></tr>   \n",
    "    <tr>\n",
    "        <td>3</td>\n",
    "        <td> int16</td>\n",
    "        <td>i2</td></tr>   \n",
    "    <tr>\n",
    "        <td>4</td>\n",
    "        <td> uint16</td>\n",
    "        <td>u2</td></tr>  \n",
    "    <tr>\n",
    "        <td>5</td>\n",
    "        <td> int or int32    </td>\n",
    "        <td>i4</td></tr>\n",
    "    <tr>\n",
    "        <td>6</td>\n",
    "        <td> uint32</td>\n",
    "        <td>u4</td></tr>  \n",
    "    <tr>\n",
    "        <td>7</td>\n",
    "        <td> int64</td>\n",
    "        <td>i8</td></tr>   \n",
    "    <tr>\n",
    "        <td>8</td>\n",
    "        <td> uint64</td>\n",
    "        <td>u8</td></tr>  \n",
    "    <tr>\n",
    "        <td>9</td>\n",
    "        <td> float16</td>\n",
    "        <td>f2</td></tr> \n",
    "    <tr>\n",
    "        <td>10</td>\n",
    "        <td> float32</td>\n",
    "        <td>f4</td></tr> \n",
    "    <tr>\n",
    "        <td>11</td>\n",
    "        <td> float or float64    </td>\n",
    "        <td>f8</td></tr>\n",
    "    <tr>\n",
    "        <td>12</td>\n",
    "        <td> float128</td>\n",
    "        <td>f16</td></tr>    \n",
    "    <tr>\n",
    "        <td>13</td>\n",
    "        <td> complex64</td>\n",
    "        <td>c8</td></tr>   \n",
    "    <tr>\n",
    "        <td>14</td>\n",
    "        <td> complex or complex128  </td>\n",
    "        <td>c16</td></tr> \n",
    "    <tr>\n",
    "        <td>15</td>\n",
    "        <td> bool</td>\n",
    "        <td>one</td></tr>    \n",
    "    <tr>\n",
    "        <td>16</td>\n",
    "        <td> object</td>\n",
    "        <td>O</td></tr>  \n",
    "    <tr>\n",
    "        <td>17</td>\n",
    "        <td> string_</td>\n",
    "        <td>S</td></tr> \n",
    "    <tr>\n",
    "        <td>18</td>\n",
    "        <td> unicode_</td>\n",
    "        <td>U</td></tr>    \n",
    "</tbody>\n",
    "</table>\n"
   ]
  }
 ],
 "metadata": {
  "kernelspec": {
   "display_name": "pfai",
   "language": "python",
   "name": "python3"
  },
  "language_info": {
   "codemirror_mode": {
    "name": "ipython",
    "version": 3
   },
   "file_extension": ".py",
   "mimetype": "text/x-python",
   "name": "python",
   "nbconvert_exporter": "python",
   "pygments_lexer": "ipython3",
   "version": "3.12.5"
  }
 },
 "nbformat": 4,
 "nbformat_minor": 2
}
